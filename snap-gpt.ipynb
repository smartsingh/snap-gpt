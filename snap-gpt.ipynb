{
 "cells": [
  {
   "cell_type": "code",
   "execution_count": 8,
   "id": "a0e6acea-f721-46da-84d3-14beefe38a19",
   "metadata": {},
   "outputs": [
    {
     "name": "stderr",
     "output_type": "stream",
     "text": [
      "Created a chunk of size 616, which is longer than the specified 600\n",
      "Created a chunk of size 716, which is longer than the specified 600\n",
      "Created a chunk of size 677, which is longer than the specified 600\n",
      "Created a chunk of size 637, which is longer than the specified 600\n",
      "Created a chunk of size 634, which is longer than the specified 600\n",
      "Created a chunk of size 612, which is longer than the specified 600\n",
      "Created a chunk of size 627, which is longer than the specified 600\n",
      "Created a chunk of size 720, which is longer than the specified 600\n",
      "Created a chunk of size 843, which is longer than the specified 600\n",
      "Created a chunk of size 999, which is longer than the specified 600\n",
      "Created a chunk of size 803, which is longer than the specified 600\n",
      "Created a chunk of size 679, which is longer than the specified 600\n",
      "Created a chunk of size 816, which is longer than the specified 600\n",
      "Created a chunk of size 616, which is longer than the specified 600\n",
      "Created a chunk of size 685, which is longer than the specified 600\n"
     ]
    }
   ],
   "source": [
    "#import data using langchain and feed it into a vectorstore for use by gpt3.5\n",
    "from langchain.text_splitter import CharacterTextSplitter as CTS\n",
    "from langchain.document_loaders import UnstructuredFileLoader as UFL\n",
    "from langchain.vectorstores.faiss import FAISS\n",
    "from langchain.embeddings import OpenAIEmbeddings\n",
    "import pickle\n",
    "import config\n",
    "import os\n",
    "\n",
    "os.environ[\"OPENAI_API_KEY\"] = config.gptkey\n",
    "\n",
    "\n",
    "loader = UFL(\"data/rules.txt\")\n",
    "raw_docs = loader.load()\n",
    "\n",
    "text_splitter = CTS(\n",
    "    separator = \"\\n\\n\",\n",
    "    chunk_size = 600,\n",
    "    chunk_overlap = 100,\n",
    "    length_function = len,\n",
    ")\n",
    "\n",
    "docs = text_splitter.split_documents(raw_docs)\n",
    "\n",
    "embeddings = OpenAIEmbeddings()\n",
    "vectorstore = FAISS.from_documents(docs, embeddings)\n",
    "\n",
    "with open(\"vectorstore.pkl\", \"wb\") as f:\n",
    "    pickle.dump(vectorstore, f)"
   ]
  }
 ],
 "metadata": {
  "kernelspec": {
   "display_name": "Python 3 (ipykernel)",
   "language": "python",
   "name": "python3"
  },
  "language_info": {
   "codemirror_mode": {
    "name": "ipython",
    "version": 3
   },
   "file_extension": ".py",
   "mimetype": "text/x-python",
   "name": "python",
   "nbconvert_exporter": "python",
   "pygments_lexer": "ipython3",
   "version": "3.9.7"
  }
 },
 "nbformat": 4,
 "nbformat_minor": 5
}
